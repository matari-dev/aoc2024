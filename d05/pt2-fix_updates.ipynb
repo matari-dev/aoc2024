{
 "cells": [
  {
   "cell_type": "code",
   "execution_count": 313,
   "id": "c18d279e-1458-4fc7-b8ca-fd578699228d",
   "metadata": {
    "tags": []
   },
   "outputs": [],
   "source": [
    "# fpath = '../data/ex.txt'\n",
    "fpath = '../data/input.txt'\n",
    "# fpath = '../data/input2.txt'\n",
    "\n",
    "arr = []\n",
    "with open(fpath, 'r') as f:\n",
    "    arr = f.read().splitlines()\n",
    "\n",
    "# separate 'arr' into rules and updates \n",
    "i = arr.index('')  # (i)ndex to split at\n",
    "rules = arr[:i]\n",
    "updates = arr[i + 1:]\n",
    "\n",
    "def process(item):\n",
    "    a,b = item.split('|')\n",
    "    return int(a), int(b)\n",
    "\n",
    "# convert rules from \n",
    "# \"47|53\" to (47, 53)\n",
    "rules = list(map(process, rules))\n",
    "\n",
    "# take the rules and make a dictionary from them\n",
    "rules_d = {}\n",
    "for k,v in rules:\n",
    "    if k not in rules_d:\n",
    "        rules_d.setdefault(k, [v])\n",
    "    else:\n",
    "        rules_d[k].append(v)"
   ]
  },
  {
   "cell_type": "code",
   "execution_count": 314,
   "id": "6bb567d9-3ceb-4ec8-9f7a-cab2bb46c9ad",
   "metadata": {
    "tags": []
   },
   "outputs": [],
   "source": [
    "# the page being evaluated against the pages.\n",
    "# the pages it is being evaluated against is \n",
    "# from the first page no. following it in the list \n",
    "# to the last page no. in the list\n",
    "def is_positioned(pg, pgs):\n",
    "    for i in pgs:\n",
    "        if rules_d.get(i) is None:\n",
    "            continue\n",
    "        if pg in rules_d[i]:\n",
    "            return False\n",
    "    return True"
   ]
  },
  {
   "cell_type": "code",
   "execution_count": 315,
   "id": "76340639-4057-4cd4-8f3a-0b529581bdd1",
   "metadata": {
    "tags": []
   },
   "outputs": [],
   "source": [
    "# pass this function one update entry\n",
    "# it will evaluate and return true if \n",
    "# the update `is_ordered`\n",
    "def is_ordered(update):\n",
    "    for pos in range(len(update) - 1):\n",
    "        page = update[pos]\n",
    "        pages = update[pos + 1:]\n",
    "        if is_positioned(page, pages) == False:\n",
    "            fix_needed.append(update)\n",
    "            return 0\n",
    "    return update[len(update) // 2]\n"
   ]
  },
  {
   "cell_type": "code",
   "execution_count": 316,
   "id": "21fcfb98-ba32-4c75-8a1a-97f0393b9d83",
   "metadata": {
    "tags": []
   },
   "outputs": [
    {
     "name": "stdout",
     "output_type": "stream",
     "text": [
      "4578\n"
     ]
    }
   ],
   "source": [
    "total = 0\n",
    "fix_needed = []\n",
    "for update in updates:\n",
    "    eval = list(map(lambda a : int(a), update.split(',')))\n",
    "    total += is_ordered(eval)\n",
    "print(total)\n",
    "\n",
    "# print(\"\\nfix the following\")\n",
    "# print(fix_needed)"
   ]
  },
  {
   "cell_type": "markdown",
   "id": "9c00f3ed-c19a-44e1-ba12-3742e8558edb",
   "metadata": {},
   "source": [
    "# Fix Bad Updates"
   ]
  },
  {
   "cell_type": "markdown",
   "id": "edb616c8-7997-413f-aa3b-b4583752fcd1",
   "metadata": {},
   "source": [
    "## Can Item Stay? If not, swap!"
   ]
  },
  {
   "cell_type": "code",
   "execution_count": 317,
   "id": "712fa39f-4408-4d87-a0fe-d38806b9ec44",
   "metadata": {
    "tags": []
   },
   "outputs": [],
   "source": [
    "def scrub_it(fix_this):\n",
    "    pos = 0\n",
    "    while pos < (len(fix_this) - 1):\n",
    "        # print(pos, fix_this, end = \" | \")\n",
    "        item = fix_this[pos]\n",
    "        next_item = fix_this[pos + 1]\n",
    "        # print(item, next_item)\n",
    "\n",
    "        # is item in next_item's rule set?\n",
    "\n",
    "        # first check if next_item has a rule set\n",
    "        # print(next_item, rules_d.get(next_item))\n",
    "        if rules_d.get(next_item) is None:\n",
    "            continue  # no swap needed. go to next (pos)ition\n",
    "        \n",
    "        # if item is in next_item's rule set, swap\n",
    "        # print(next_item, rules_d[next_item])\n",
    "        if item in rules_d[next_item]:\n",
    "            fix_this[pos] = next_item\n",
    "            fix_this[pos + 1] = item\n",
    "            pos = 0\n",
    "        else:\n",
    "            pos += 1"
   ]
  },
  {
   "cell_type": "code",
   "execution_count": 318,
   "id": "1f6596d9-2e66-450f-922e-0c9a94faf289",
   "metadata": {
    "tags": []
   },
   "outputs": [
    {
     "data": {
      "text/plain": [
       "6179"
      ]
     },
     "execution_count": 318,
     "metadata": {},
     "output_type": "execute_result"
    }
   ],
   "source": [
    "total = []\n",
    "for fix_this in fix_needed:\n",
    "    scrub_it(fix_this)\n",
    "    total.append(fix_this[len(fix_this) // 2])\n",
    "sum(total)"
   ]
  }
 ],
 "metadata": {
  "kernelspec": {
   "display_name": "Python 3 (ipykernel)",
   "language": "python",
   "name": "python3"
  },
  "language_info": {
   "codemirror_mode": {
    "name": "ipython",
    "version": 3
   },
   "file_extension": ".py",
   "mimetype": "text/x-python",
   "name": "python",
   "nbconvert_exporter": "python",
   "pygments_lexer": "ipython3",
   "version": "3.12.2"
  }
 },
 "nbformat": 4,
 "nbformat_minor": 5
}
