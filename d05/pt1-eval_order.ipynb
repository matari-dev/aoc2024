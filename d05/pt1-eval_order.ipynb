{
 "cells": [
  {
   "cell_type": "code",
   "execution_count": 1,
   "id": "c18d279e-1458-4fc7-b8ca-fd578699228d",
   "metadata": {
    "tags": []
   },
   "outputs": [],
   "source": [
    "# fpath = './data/ex.txt'\n",
    "fpath = './data/input.txt'\n",
    "\n",
    "arr = []\n",
    "with open(fpath, 'r') as f:\n",
    "    arr = f.read().splitlines()\n",
    "\n",
    "# separate 'arr' into rules and updates \n",
    "i = arr.index('')  # (i)ndex to split at\n",
    "rules = arr[:i]\n",
    "updates = arr[i + 1:]\n",
    "\n",
    "def process(item):\n",
    "    a,b = item.split('|')\n",
    "    return int(a), int(b)\n",
    "\n",
    "# convert rules from \n",
    "# \"47|53\" to (47, 53)\n",
    "rules = list(map(process, rules))\n",
    "\n",
    "# take the rules and make a dictionary from them\n",
    "rules_d = {}\n",
    "for k,v in rules:\n",
    "    if k not in rules_d:\n",
    "        rules_d.setdefault(k, [v])\n",
    "    else:\n",
    "        rules_d[k].append(v)"
   ]
  },
  {
   "cell_type": "code",
   "execution_count": 2,
   "id": "6bb567d9-3ceb-4ec8-9f7a-cab2bb46c9ad",
   "metadata": {
    "tags": []
   },
   "outputs": [],
   "source": [
    "# the page being evaluated against the pages.\n",
    "# the pages it is being evaluated against is \n",
    "# from the first page no. following it in the list \n",
    "# to the last page no. in the list\n",
    "def is_positioned(pg, pgs):\n",
    "    for i in pgs:\n",
    "        if rules_d.get(i) is None:\n",
    "            continue\n",
    "        if pg in rules_d[i]:\n",
    "            return False\n",
    "    return True"
   ]
  },
  {
   "cell_type": "code",
   "execution_count": 3,
   "id": "76340639-4057-4cd4-8f3a-0b529581bdd1",
   "metadata": {
    "tags": []
   },
   "outputs": [],
   "source": [
    "# pass this function one update entry\n",
    "# it will evaluate and return true if \n",
    "# the update `is_ordered`\n",
    "def is_ordered(update):\n",
    "    for pos in range(len(update) - 1):\n",
    "        page = update[pos]\n",
    "        pages = update[pos + 1:]\n",
    "        if is_positioned(page, pages) == False:\n",
    "            return 0\n",
    "    return update[len(update) // 2]\n"
   ]
  },
  {
   "cell_type": "code",
   "execution_count": 4,
   "id": "21fcfb98-ba32-4c75-8a1a-97f0393b9d83",
   "metadata": {
    "tags": []
   },
   "outputs": [
    {
     "name": "stdout",
     "output_type": "stream",
     "text": [
      "4578\n"
     ]
    }
   ],
   "source": [
    "total = 0\n",
    "for update in updates:\n",
    "    eval = list(map(lambda a : int(a), update.split(',')))\n",
    "    total += is_ordered(eval)\n",
    "print(total)"
   ]
  },
  {
   "cell_type": "code",
   "execution_count": null,
   "id": "96e6b385-8463-45af-b6df-5ea4eed9255c",
   "metadata": {},
   "outputs": [],
   "source": []
  }
 ],
 "metadata": {
  "kernelspec": {
   "display_name": "Python 3 (ipykernel)",
   "language": "python",
   "name": "python3"
  },
  "language_info": {
   "codemirror_mode": {
    "name": "ipython",
    "version": 3
   },
   "file_extension": ".py",
   "mimetype": "text/x-python",
   "name": "python",
   "nbconvert_exporter": "python",
   "pygments_lexer": "ipython3",
   "version": "3.12.2"
  }
 },
 "nbformat": 4,
 "nbformat_minor": 5
}
