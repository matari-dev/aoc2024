{
 "cells": [
  {
   "cell_type": "markdown",
   "id": "23c62970-66e2-4745-afb3-2af2109c8b25",
   "metadata": {},
   "source": [
    "# Mark Xes to the first block"
   ]
  },
  {
   "cell_type": "code",
   "execution_count": 1,
   "id": "6d669128-f555-460d-ad1f-a81506e704cd",
   "metadata": {
    "tags": []
   },
   "outputs": [
    {
     "name": "stdout",
     "output_type": "stream",
     "text": [
      "[(4, 0), (9, 1), (2, 3), (7, 4), (1, 6), (8, 7), (0, 8), (6, 9)]\n"
     ]
    },
    {
     "data": {
      "text/plain": [
       "(4, 6)"
      ]
     },
     "execution_count": 1,
     "metadata": {},
     "output_type": "execute_result"
    }
   ],
   "source": [
    "import pandas as pd\n",
    "import numpy as np\n",
    "from IPython.display import display, HTML\n",
    "\n",
    "# surprise! we initialize!\n",
    "\n",
    "class ItemPosition:\n",
    "    def __init__(self, x, y):\n",
    "        self.x = x\n",
    "        self.y = y\n",
    "    \n",
    "    def __str__(self):\n",
    "        return f\"position ► x={self.x}, y={self.y}\"\n",
    "\n",
    "fpath = '../data/expt1.txt'\n",
    "# fpath = '../data/test.txt'\n",
    "# fpath = '../data/inputpt1.txt'\n",
    "\n",
    "arr = []\n",
    "\n",
    "# instead of tuple for 'gp'\n",
    "# i opted for an object for readability\n",
    "# with the tuple, x position is `gp[0]`\n",
    "# with the object x position is `gp.x`\n",
    "# see `if '^'` statement below for implementation\n",
    "# gp = (0, 0)  # guard position in x, y\n",
    "\n",
    "blocks = []  # postion of blocks in x, y\n",
    "\n",
    "# Shang Time!\n",
    "\n",
    "with open(fpath, 'r') as f:\n",
    "    lines = f.readlines()\n",
    "    for row, line in enumerate(lines):\n",
    "        if '^' in line:\n",
    "            gp = ItemPosition(line.index('^'), row)\n",
    "        if '#' in line:\n",
    "            # c for (c)haracter\n",
    "            # t for (t)emp\n",
    "            # the list comprehension in t allows for\n",
    "            # the capture of one _or_ more blocks per row\n",
    "            t = [(i, row) for i, c in enumerate(line) if c == '#']\n",
    "            # for i in t:\n",
    "            #     blocks.append(i)\n",
    "            blocks.extend([i for i in t])\n",
    "            \n",
    "        arr.append(list(line[:-1]))\n",
    "\n",
    "print(blocks)\n",
    "gp.x, gp.y"
   ]
  },
  {
   "cell_type": "code",
   "execution_count": 2,
   "id": "2e031c86-2787-4052-8be5-ff957498c8f3",
   "metadata": {
    "tags": []
   },
   "outputs": [
    {
     "name": "stdout",
     "output_type": "stream",
     "text": [
      "position ► x=0, y=0\n",
      "position ► x=10, y=10\n"
     ]
    }
   ],
   "source": [
    "df = pd.DataFrame(arr)\n",
    "df_start = df.copy()\n",
    "ul_bound = ItemPosition(0, 0)  # upper-left bound in x, y\n",
    "\n",
    "# first len returns number of columns\n",
    "# second len, number of rows\n",
    "lr_bound = ItemPosition(len(df.iloc[0]), len(df))  # lower-right bound in x, y\n",
    "print(ul_bound)\n",
    "print(lr_bound)\n"
   ]
  },
  {
   "cell_type": "code",
   "execution_count": 3,
   "id": "48854f00-8efa-4a18-826c-cd42552afe12",
   "metadata": {
    "tags": []
   },
   "outputs": [
    {
     "data": {
      "text/plain": [
       "([(0, -1), (1, 0), (0, 1), (-1, 0)], 0, (0, -1))"
      ]
     },
     "execution_count": 3,
     "metadata": {},
     "output_type": "execute_result"
    }
   ],
   "source": [
    "dirs = [(0, -1), (1, 0), (0, 1), (-1, 0)]  ## cycle of directions in x,y \n",
    "\n",
    "# 0: up, 1: right, 2: down, 3: left\n",
    "cur_dir = 0  # current direction\n",
    "gdir = dirs[cur_dir]  ## guards direction\n",
    "dirs, cur_dir, gdir"
   ]
  },
  {
   "cell_type": "markdown",
   "id": "1fe52f38-a136-4e93-a8f2-0726197e8d0d",
   "metadata": {},
   "source": [
    "## return the xy position of the first block in path"
   ]
  },
  {
   "cell_type": "markdown",
   "id": "66510df1-1a6f-45d5-82fc-5bd671071eb0",
   "metadata": {},
   "source": [
    "return list of tuples above guard position  \n",
    "searching 'above' guard is determined by guard direction  \n",
    "a zero in the x position of curr_dir tells you to find the next block in the column of your guards current position  \n",
    "a negative in the y position tells you to look for the first block above your guard  \n"
   ]
  },
  {
   "cell_type": "markdown",
   "id": "01ec8ec8-d901-4628-a021-48a57d3c3d1e",
   "metadata": {},
   "source": [
    "### Code if `cur_dir` equals 0, i.e. 'up'"
   ]
  },
  {
   "cell_type": "code",
   "execution_count": 4,
   "id": "8d0d3ea7-98c5-4232-a9bc-404054c000d8",
   "metadata": {
    "tags": []
   },
   "outputs": [
    {
     "data": {
      "text/plain": [
       "['.', '.', '.', '.', '.', '#']"
      ]
     },
     "execution_count": 4,
     "metadata": {},
     "output_type": "execute_result"
    }
   ],
   "source": [
    "# produces a list of \n",
    "# the items in the order of \n",
    "# the guards path traveling up\n",
    "path_items = list(df.iloc[0:gp.y, gp.x])\n",
    "if cur_dir in [0, 3]:\n",
    "    # reverse the list if\n",
    "    # guard is moving up or to the left\n",
    "    path_items = path_items[::-1]\n",
    "path_items"
   ]
  },
  {
   "cell_type": "code",
   "execution_count": 5,
   "id": "4c5684a3-619c-46af-bf05-3573ed6ff913",
   "metadata": {
    "tags": []
   },
   "outputs": [
    {
     "data": {
      "text/plain": [
       "5"
      ]
     },
     "execution_count": 5,
     "metadata": {},
     "output_type": "execute_result"
    }
   ],
   "source": [
    "# find first block in path\n",
    "block = path_items.index('#')\n",
    "block"
   ]
  },
  {
   "cell_type": "markdown",
   "id": "559731e9-9a5d-4424-9a9e-d0a2c27d4aba",
   "metadata": {
    "jupyter": {
     "outputs_hidden": true
    },
    "tags": []
   },
   "source": [
    "_for my reference_  \n",
    "```python\n",
    "df.iloc[1:7, 4] = 'X'\n",
    "df.iloc[1, 4:9] = 'O'\n",
    "df.iloc[1:7, 8] = 'Y'\n",
    "df.iloc[6, 2:9] = 'M'\n",
    "```"
   ]
  },
  {
   "cell_type": "code",
   "execution_count": 6,
   "id": "07c955b0-eb78-4aed-8757-ce28fe8d4fee",
   "metadata": {
    "tags": []
   },
   "outputs": [],
   "source": [
    "# you now have from guard pos to first found block\n",
    "# update values to 'X'\n",
    "df.iloc[(gp.y - block):(gp.y), gp.x] = 'X'"
   ]
  },
  {
   "cell_type": "markdown",
   "id": "d4355a02-0635-42db-8c65-40b5b3cab209",
   "metadata": {
    "tags": []
   },
   "source": [
    "## show progress and starting point dataframe"
   ]
  },
  {
   "cell_type": "code",
   "execution_count": 7,
   "id": "69c03082-f970-4548-99b9-45b9a2540a28",
   "metadata": {
    "tags": []
   },
   "outputs": [
    {
     "data": {
      "text/html": [
       "\n",
       "<div style=\"display: flex; justify-content: flex-start; gap: 16px\">\n",
       "  <div>\n",
       "    <p style=\"margin-bottom: 0px\">at start</p>\n",
       "    <table border=\"1\" class=\"dataframe\">\n",
       "  <thead>\n",
       "    <tr style=\"text-align: right;\">\n",
       "      <th></th>\n",
       "      <th>0</th>\n",
       "      <th>1</th>\n",
       "      <th>2</th>\n",
       "      <th>3</th>\n",
       "      <th>4</th>\n",
       "      <th>5</th>\n",
       "      <th>6</th>\n",
       "      <th>7</th>\n",
       "      <th>8</th>\n",
       "      <th>9</th>\n",
       "    </tr>\n",
       "  </thead>\n",
       "  <tbody>\n",
       "    <tr>\n",
       "      <th>0</th>\n",
       "      <td>.</td>\n",
       "      <td>.</td>\n",
       "      <td>.</td>\n",
       "      <td>.</td>\n",
       "      <td>#</td>\n",
       "      <td>.</td>\n",
       "      <td>.</td>\n",
       "      <td>.</td>\n",
       "      <td>.</td>\n",
       "      <td>.</td>\n",
       "    </tr>\n",
       "    <tr>\n",
       "      <th>1</th>\n",
       "      <td>.</td>\n",
       "      <td>.</td>\n",
       "      <td>.</td>\n",
       "      <td>.</td>\n",
       "      <td>.</td>\n",
       "      <td>.</td>\n",
       "      <td>.</td>\n",
       "      <td>.</td>\n",
       "      <td>.</td>\n",
       "      <td>#</td>\n",
       "    </tr>\n",
       "    <tr>\n",
       "      <th>2</th>\n",
       "      <td>.</td>\n",
       "      <td>.</td>\n",
       "      <td>.</td>\n",
       "      <td>.</td>\n",
       "      <td>.</td>\n",
       "      <td>.</td>\n",
       "      <td>.</td>\n",
       "      <td>.</td>\n",
       "      <td>.</td>\n",
       "      <td>.</td>\n",
       "    </tr>\n",
       "    <tr>\n",
       "      <th>3</th>\n",
       "      <td>.</td>\n",
       "      <td>.</td>\n",
       "      <td>#</td>\n",
       "      <td>.</td>\n",
       "      <td>.</td>\n",
       "      <td>.</td>\n",
       "      <td>.</td>\n",
       "      <td>.</td>\n",
       "      <td>.</td>\n",
       "      <td>.</td>\n",
       "    </tr>\n",
       "    <tr>\n",
       "      <th>4</th>\n",
       "      <td>.</td>\n",
       "      <td>.</td>\n",
       "      <td>.</td>\n",
       "      <td>.</td>\n",
       "      <td>.</td>\n",
       "      <td>.</td>\n",
       "      <td>.</td>\n",
       "      <td>#</td>\n",
       "      <td>.</td>\n",
       "      <td>.</td>\n",
       "    </tr>\n",
       "    <tr>\n",
       "      <th>5</th>\n",
       "      <td>.</td>\n",
       "      <td>.</td>\n",
       "      <td>.</td>\n",
       "      <td>.</td>\n",
       "      <td>.</td>\n",
       "      <td>.</td>\n",
       "      <td>.</td>\n",
       "      <td>.</td>\n",
       "      <td>.</td>\n",
       "      <td>.</td>\n",
       "    </tr>\n",
       "    <tr>\n",
       "      <th>6</th>\n",
       "      <td>.</td>\n",
       "      <td>#</td>\n",
       "      <td>.</td>\n",
       "      <td>.</td>\n",
       "      <td>^</td>\n",
       "      <td>.</td>\n",
       "      <td>.</td>\n",
       "      <td>.</td>\n",
       "      <td>.</td>\n",
       "      <td>.</td>\n",
       "    </tr>\n",
       "    <tr>\n",
       "      <th>7</th>\n",
       "      <td>.</td>\n",
       "      <td>.</td>\n",
       "      <td>.</td>\n",
       "      <td>.</td>\n",
       "      <td>.</td>\n",
       "      <td>.</td>\n",
       "      <td>.</td>\n",
       "      <td>.</td>\n",
       "      <td>#</td>\n",
       "      <td>.</td>\n",
       "    </tr>\n",
       "    <tr>\n",
       "      <th>8</th>\n",
       "      <td>#</td>\n",
       "      <td>.</td>\n",
       "      <td>.</td>\n",
       "      <td>.</td>\n",
       "      <td>.</td>\n",
       "      <td>.</td>\n",
       "      <td>.</td>\n",
       "      <td>.</td>\n",
       "      <td>.</td>\n",
       "      <td>.</td>\n",
       "    </tr>\n",
       "    <tr>\n",
       "      <th>9</th>\n",
       "      <td>.</td>\n",
       "      <td>.</td>\n",
       "      <td>.</td>\n",
       "      <td>.</td>\n",
       "      <td>.</td>\n",
       "      <td>.</td>\n",
       "      <td>#</td>\n",
       "      <td>.</td>\n",
       "      <td>.</td>\n",
       "      <td>.</td>\n",
       "    </tr>\n",
       "  </tbody>\n",
       "</table>\n",
       "  </div>\n",
       "  <div>\n",
       "    <p style=\"margin-bottom: 0px\">current</p>\n",
       "    <table border=\"1\" class=\"dataframe\">\n",
       "  <thead>\n",
       "    <tr style=\"text-align: right;\">\n",
       "      <th></th>\n",
       "      <th>0</th>\n",
       "      <th>1</th>\n",
       "      <th>2</th>\n",
       "      <th>3</th>\n",
       "      <th>4</th>\n",
       "      <th>5</th>\n",
       "      <th>6</th>\n",
       "      <th>7</th>\n",
       "      <th>8</th>\n",
       "      <th>9</th>\n",
       "    </tr>\n",
       "  </thead>\n",
       "  <tbody>\n",
       "    <tr>\n",
       "      <th>0</th>\n",
       "      <td>.</td>\n",
       "      <td>.</td>\n",
       "      <td>.</td>\n",
       "      <td>.</td>\n",
       "      <td>#</td>\n",
       "      <td>.</td>\n",
       "      <td>.</td>\n",
       "      <td>.</td>\n",
       "      <td>.</td>\n",
       "      <td>.</td>\n",
       "    </tr>\n",
       "    <tr>\n",
       "      <th>1</th>\n",
       "      <td>.</td>\n",
       "      <td>.</td>\n",
       "      <td>.</td>\n",
       "      <td>.</td>\n",
       "      <td>X</td>\n",
       "      <td>.</td>\n",
       "      <td>.</td>\n",
       "      <td>.</td>\n",
       "      <td>.</td>\n",
       "      <td>#</td>\n",
       "    </tr>\n",
       "    <tr>\n",
       "      <th>2</th>\n",
       "      <td>.</td>\n",
       "      <td>.</td>\n",
       "      <td>.</td>\n",
       "      <td>.</td>\n",
       "      <td>X</td>\n",
       "      <td>.</td>\n",
       "      <td>.</td>\n",
       "      <td>.</td>\n",
       "      <td>.</td>\n",
       "      <td>.</td>\n",
       "    </tr>\n",
       "    <tr>\n",
       "      <th>3</th>\n",
       "      <td>.</td>\n",
       "      <td>.</td>\n",
       "      <td>#</td>\n",
       "      <td>.</td>\n",
       "      <td>X</td>\n",
       "      <td>.</td>\n",
       "      <td>.</td>\n",
       "      <td>.</td>\n",
       "      <td>.</td>\n",
       "      <td>.</td>\n",
       "    </tr>\n",
       "    <tr>\n",
       "      <th>4</th>\n",
       "      <td>.</td>\n",
       "      <td>.</td>\n",
       "      <td>.</td>\n",
       "      <td>.</td>\n",
       "      <td>X</td>\n",
       "      <td>.</td>\n",
       "      <td>.</td>\n",
       "      <td>#</td>\n",
       "      <td>.</td>\n",
       "      <td>.</td>\n",
       "    </tr>\n",
       "    <tr>\n",
       "      <th>5</th>\n",
       "      <td>.</td>\n",
       "      <td>.</td>\n",
       "      <td>.</td>\n",
       "      <td>.</td>\n",
       "      <td>X</td>\n",
       "      <td>.</td>\n",
       "      <td>.</td>\n",
       "      <td>.</td>\n",
       "      <td>.</td>\n",
       "      <td>.</td>\n",
       "    </tr>\n",
       "    <tr>\n",
       "      <th>6</th>\n",
       "      <td>.</td>\n",
       "      <td>#</td>\n",
       "      <td>.</td>\n",
       "      <td>.</td>\n",
       "      <td>^</td>\n",
       "      <td>.</td>\n",
       "      <td>.</td>\n",
       "      <td>.</td>\n",
       "      <td>.</td>\n",
       "      <td>.</td>\n",
       "    </tr>\n",
       "    <tr>\n",
       "      <th>7</th>\n",
       "      <td>.</td>\n",
       "      <td>.</td>\n",
       "      <td>.</td>\n",
       "      <td>.</td>\n",
       "      <td>.</td>\n",
       "      <td>.</td>\n",
       "      <td>.</td>\n",
       "      <td>.</td>\n",
       "      <td>#</td>\n",
       "      <td>.</td>\n",
       "    </tr>\n",
       "    <tr>\n",
       "      <th>8</th>\n",
       "      <td>#</td>\n",
       "      <td>.</td>\n",
       "      <td>.</td>\n",
       "      <td>.</td>\n",
       "      <td>.</td>\n",
       "      <td>.</td>\n",
       "      <td>.</td>\n",
       "      <td>.</td>\n",
       "      <td>.</td>\n",
       "      <td>.</td>\n",
       "    </tr>\n",
       "    <tr>\n",
       "      <th>9</th>\n",
       "      <td>.</td>\n",
       "      <td>.</td>\n",
       "      <td>.</td>\n",
       "      <td>.</td>\n",
       "      <td>.</td>\n",
       "      <td>.</td>\n",
       "      <td>#</td>\n",
       "      <td>.</td>\n",
       "      <td>.</td>\n",
       "      <td>.</td>\n",
       "    </tr>\n",
       "  </tbody>\n",
       "</table>\n",
       "  </div>\n",
       "</div>\n",
       "\n"
      ],
      "text/plain": [
       "<IPython.core.display.HTML object>"
      ]
     },
     "metadata": {},
     "output_type": "display_data"
    }
   ],
   "source": [
    "display(HTML(f\"\"\"\n",
    "<div style=\"display: flex; justify-content: flex-start; gap: 16px\">\n",
    "  <div>\n",
    "    <p style=\"margin-bottom: 0px\">at start</p>\n",
    "    {df_start.to_html()}\n",
    "  </div>\n",
    "  <div>\n",
    "    <p style=\"margin-bottom: 0px\">current</p>\n",
    "    {df.to_html()}\n",
    "  </div>\n",
    "</div>\n",
    "\n",
    "\"\"\"))"
   ]
  },
  {
   "cell_type": "code",
   "execution_count": null,
   "id": "1714699b-7dbc-4b36-b35c-f3af4982a3d0",
   "metadata": {},
   "outputs": [],
   "source": []
  }
 ],
 "metadata": {
  "kernelspec": {
   "display_name": "Python 3 (ipykernel)",
   "language": "python",
   "name": "python3"
  },
  "language_info": {
   "codemirror_mode": {
    "name": "ipython",
    "version": 3
   },
   "file_extension": ".py",
   "mimetype": "text/x-python",
   "name": "python",
   "nbconvert_exporter": "python",
   "pygments_lexer": "ipython3",
   "version": "3.12.2"
  }
 },
 "nbformat": 4,
 "nbformat_minor": 5
}
