{
 "cells": [
  {
   "cell_type": "code",
   "execution_count": 206,
   "id": "c18d279e-1458-4fc7-b8ca-fd578699228d",
   "metadata": {
    "tags": []
   },
   "outputs": [],
   "source": [
    "fpath = './data/ex.txt'\n",
    "# fpath = './data/input.txt'\n",
    "\n",
    "arr = []\n",
    "with open(fpath, 'r') as f:\n",
    "    arr = f.read().splitlines()\n",
    "\n",
    "# separate 'arr' into rules and updates \n",
    "i = arr.index('')  # (i)ndex to split at\n",
    "rules = arr[:i]\n",
    "updates = arr[i + 1:]\n",
    "\n",
    "def process(item):\n",
    "    a,b = item.split('|')\n",
    "    return int(a), int(b)\n",
    "\n",
    "# convert rules from \n",
    "# \"47|53\" to (47, 53)\n",
    "rules = list(map(process, rules))\n",
    "\n",
    "rules_d = {}\n",
    "for k,v in rules:\n",
    "    if k not in rules_d:\n",
    "        rules_d.setdefault(k, [v])\n",
    "    else:\n",
    "        rules_d[k].append(v)"
   ]
  },
  {
   "cell_type": "markdown",
   "id": "80666aca-893f-4ba3-8213-4defbf834cd4",
   "metadata": {},
   "source": [
    "- take a string item in updates (_e.g. updates[0]_)\n",
    "- split it by the comma you now have a list of numbers in string form\n",
    "- using map, apply a lambda to convert each number in string form to int"
   ]
  },
  {
   "cell_type": "code",
   "execution_count": 226,
   "id": "65357032-e714-457f-844e-e67f96cd7240",
   "metadata": {
    "tags": []
   },
   "outputs": [
    {
     "data": {
      "text/plain": [
       "[75, 97, 47, 61, 53]"
      ]
     },
     "execution_count": 226,
     "metadata": {},
     "output_type": "execute_result"
    }
   ],
   "source": [
    "eval = list(map(lambda a : int(a), updates[3].split(',')))\n",
    "eval"
   ]
  },
  {
   "cell_type": "code",
   "execution_count": 229,
   "id": "5623417a-97fe-462a-89e6-27cd7051f82c",
   "metadata": {
    "tags": []
   },
   "outputs": [
    {
     "name": "stdout",
     "output_type": "stream",
     "text": [
      "97: [13, 61, 47, 29, 53, 75]\n",
      "\t True\n",
      "47: [53, 13, 61, 29]\n",
      "\t False\n",
      "61: [13, 53, 29]\n",
      "\t False\n",
      "53: [29, 13]\n",
      "\t False\n"
     ]
    }
   ],
   "source": [
    "# eval 75 against the items that follow it in the list\n",
    "pos = 0\n",
    "for i in eval[pos + 1:]:\n",
    "    print(f'{i}: {rules_d[i]}\\n\\t {eval[pos] in rules_d[i]}')"
   ]
  },
  {
   "cell_type": "markdown",
   "id": "70348803-e68e-4558-a191-5844653236a9",
   "metadata": {},
   "source": [
    "in the output above, 75 is found in the list for 97.  \n",
    "which is to say that 75 should _not_ be before 97 and yet  \n",
    "it is in this list.  \n",
    "we can't use this update and it is discarded.  \n",
    "we're only accepting updates correctly ordered whereupon we will collect their center values."
   ]
  }
 ],
 "metadata": {
  "kernelspec": {
   "display_name": "Python 3 (ipykernel)",
   "language": "python",
   "name": "python3"
  },
  "language_info": {
   "codemirror_mode": {
    "name": "ipython",
    "version": 3
   },
   "file_extension": ".py",
   "mimetype": "text/x-python",
   "name": "python",
   "nbconvert_exporter": "python",
   "pygments_lexer": "ipython3",
   "version": "3.12.2"
  }
 },
 "nbformat": 4,
 "nbformat_minor": 5
}
